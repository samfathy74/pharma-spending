{
 "cells": [
  {
   "cell_type": "code",
   "execution_count": 1,
   "metadata": {
    "id": "Xgc-YCKfozNh"
   },
   "outputs": [],
   "source": [
    "# !pip install dash\n",
    "# !pip install dash_bootstrap_components\n",
    "# !pip install dash_bootstrap_templates\n",
    "# !pip install jupyter_dash\n",
    "# !pip install PIL"
   ]
  },
  {
   "cell_type": "markdown",
   "metadata": {},
   "source": [
    "### Import Libraries"
   ]
  },
  {
   "cell_type": "code",
   "execution_count": 2,
   "metadata": {
    "id": "9eMGhns0m2PW"
   },
   "outputs": [],
   "source": [
    "from dash import html, dcc, dash_table\n",
    "import dash_bootstrap_components as dbc\n",
    "from jupyter_dash import JupyterDash\n",
    "from dash_bootstrap_templates import ThemeSwitchAIO\n",
    "from dash.dependencies import Input, Output\n",
    "import plotly.express as px\n",
    "import plotly.graph_objects as go\n",
    "import pandas as pd\n",
    "import math\n",
    "import json"
   ]
  },
  {
   "cell_type": "code",
   "execution_count": 3,
   "metadata": {},
   "outputs": [],
   "source": [
    "# put money in the readable format\n",
    "def money(x):\n",
    "    l = ['','K','M', 'B', 'T']\n",
    "    i = int(math.floor(math.log(x, 1000)))\n",
    "    return f\"${round(x / math.pow(1000, i), 2)}{l[i]}\""
   ]
  },
  {
   "cell_type": "markdown",
   "metadata": {},
   "source": [
    "### Read Data"
   ]
  },
  {
   "cell_type": "code",
   "execution_count": 4,
   "metadata": {},
   "outputs": [],
   "source": [
    "pharma_data = pd.read_csv('data/final_pharma_data.csv')\n",
    "pharma_data['Time'] = pd.to_datetime(pharma_data.Time, format='%Y')"
   ]
  },
  {
   "cell_type": "markdown",
   "metadata": {},
   "source": [
    "### Initialization App"
   ]
  },
  {
   "cell_type": "code",
   "execution_count": 28,
   "metadata": {
    "id": "DQ9tH11Tp1nQ"
   },
   "outputs": [],
   "source": [
    " # ================================== Create a Dash app ==================================\n",
    "app = JupyterDash(__name__,\n",
    "    external_stylesheets=[\n",
    "    dbc.themes.BOOTSTRAP, \n",
    "    'assets/styleCss.css',\n",
    "    'https://cdn.jsdelivr.net/npm/bootstrap@5.2.0-beta1/dist/css/bootstrap.min.css',\n",
    "    \"https://cdn.jsdelivr.net/gh/AnnMarieW/dash-bootstrap-templates/dbc.min.css\",\n",
    "    'https://cdn.jsdelivr.net/gh/AnnMarieW/dash-bootstrap-templates@V1.0.4/dbc.css',\n",
    "    'https://cdn.jsdelivr.net/gh/AnnMarieW/dash-bootstrap-templates@V1.0.1/dbc.min.css'\n",
    "    \n",
    "    ], title='Pharmaceutical Dashboard',\n",
    "    )\n",
    "\n",
    "server = app.server\n",
    "server.static_folder = 'image'"
   ]
  },
  {
   "cell_type": "markdown",
   "metadata": {
    "id": "mKmQBKZDoO6O"
   },
   "source": [
    "### ================================== Header ==========================\n"
   ]
  },
  {
   "cell_type": "code",
   "execution_count": 6,
   "metadata": {
    "id": "qpss3q8mqLJj"
   },
   "outputs": [],
   "source": [
    "header = dbc.Row([\n",
    "            dbc.Col([\n",
    "                html.P(['Pharmaceutical Dashboard', html.Pre('💊💰', style={\"display\": \"inline\"})]),\n",
    "            ]),\n",
    "            dbc.Col([\n",
    "                ThemeSwitchAIO(aio_id=\"theme\", themes=[dbc.themes.BOOTSTRAP, dbc.themes.CYBORG], icons={ \"left\": \"fa fa-moon\",\"right\": \"fa fa-sun\" })\n",
    "            ], width=2, align='center'),\n",
    "        ], className='header')"
   ]
  },
  {
   "cell_type": "markdown",
   "metadata": {
    "id": "5mFLt6UroLL2"
   },
   "source": [
    "### ================================== BANS ===========================\n"
   ]
  },
  {
   "cell_type": "code",
   "execution_count": 7,
   "metadata": {
    "id": "qRx_JwhPnlS6"
   },
   "outputs": [],
   "source": [
    "cond = pharma_data[pharma_data['TOTAL_SPEND']==pharma_data['TOTAL_SPEND'].max()]\n",
    "\n",
    "high = cond['Country'].values[0]\n",
    "\n",
    "low = pharma_data[pharma_data['Time'] == cond['Time'].values[0]].min()['Country']\n",
    "\n",
    "spnd = money(cond['TOTAL_SPEND'].values[0])\n",
    "\n",
    "ind = html.Div(className=\"sc-gauge\", children=[\n",
    "        html.Div(className=\"sc-background\", children=[\n",
    "            html.Div(className=\"sc-percentage\", id=\"sc-percentage\"),\n",
    "            html.Div(className=\"sc-mask\"),\n",
    "            html.Span(className=\"sc-value\", children=f\"{spnd}\", id='rate-spending'),\n",
    "    ]),\n",
    "\n",
    "    html.Span(className=\"sc-min\", children=\"0\"),\n",
    "    html.Span(className=\"sc-max\", children=\"1 T\"),\n",
    "])"
   ]
  },
  {
   "cell_type": "code",
   "execution_count": 8,
   "metadata": {},
   "outputs": [],
   "source": [
    "cards = dbc.Row([\n",
    "    dbc.Col([\n",
    "        dbc.Card([\n",
    "            html.H4(high, className='card-title', style={'font-size': '35px', 'font-family': 'fantasy'}, id='high-spending'),\n",
    "            html.Br(),\n",
    "            html.Br(),\n",
    "            html.P('Highest Country Spending', className='card_p'),\n",
    "        ], className='cards', outline=False),\n",
    "    ], width=4),\n",
    "\n",
    "    dbc.Col([\n",
    "        dbc.Card([\n",
    "            ind,\n",
    "            html.P('Highest Spending Rate ', className='card_p',),\n",
    "            ], className='cards', outline=False),\n",
    "    ], width=4),\n",
    "\n",
    "    dbc.Col([\n",
    "        dbc.Card([\n",
    "            html.H4(low, style={'font-size': '35px', 'font-family': 'fantasy'}, id='low-spending'),\n",
    "            html.Br(),\n",
    "            html.Br(),\n",
    "            html.P('Least Spending Country', className='card_p'),\n",
    "            ], className='cards', outline=False),\n",
    "    ], width=4),\n",
    "\n",
    "], style={'text-align': '-webkit-center', 'margin-top':'10px'})"
   ]
  },
  {
   "cell_type": "code",
   "execution_count": 9,
   "metadata": {},
   "outputs": [],
   "source": [
    "group_of_cards = dbc.Card(\n",
    "    [\n",
    "        dbc.CardImg(\n",
    "            src=\"./assets/image/1.jpg\",\n",
    "            top=True,\n",
    "            style={\"height\": \"270px\",\"width\": \"100%\"},\n",
    "        ),\n",
    "        dbc.CardImgOverlay(\n",
    "            dbc.CardBody([cards]),\n",
    "        ),\n",
    "    ],\n",
    ")"
   ]
  },
  {
   "cell_type": "markdown",
   "metadata": {
    "id": "viYr9oqDsoJ8"
   },
   "source": [
    "### ================================== Controls =========================="
   ]
  },
  {
   "cell_type": "code",
   "execution_count": 10,
   "metadata": {
    "id": "-UBI5FepqSac"
   },
   "outputs": [],
   "source": [
    "slider = html.Div([\n",
    "        dbc.Label(\"Year\", html_for=\"slider\"),\n",
    "        \n",
    "        dcc.Slider(id=\"slider\",\n",
    "                    min=pharma_data.Time.dt.year.unique().min(), \n",
    "                    max=pharma_data.Time.dt.year.unique().max(), \n",
    "                    step=None,\n",
    "                    value=pharma_data.Time.dt.year.unique().min(),\n",
    "                    marks={str(c) : str(c) for c in sorted(pharma_data.Time.dt.year.unique())},\n",
    "                    persistence=True,\n",
    "                    included=False\n",
    "                    ),           \n",
    "    ], className='slider-css')\n",
    "\n",
    "dropdown1 = dcc.Dropdown(id='drop-scop',\n",
    "                        options=['world', 'africa', 'asia', 'europe', 'north america', 'south america'],\n",
    "                        value='world',\n",
    "                        placeholder='select scope',\n",
    "                        multi=False,\n",
    "                        clearable=False,\n",
    "                        searchable=True,\n",
    "                        )\n",
    "\n",
    "dropdown2 = dcc.Dropdown(id='drop-relation',\n",
    "                        options=['PC_HEALTHXP', 'PC_GDP', 'USD_CAP', 'TOTAL_SPEND'],\n",
    "                        value='TOTAL_SPEND',\n",
    "                        placeholder='Another Perspectives',\n",
    "                        multi=False,\n",
    "                        clearable=False,\n",
    "                        searchable=True,\n",
    "                        )\n",
    "\n",
    "dropdown3 = dcc.Dropdown(id='drop-country',\n",
    "                        options=[{'label': i, 'value': i} for i in pharma_data['Country'].unique()],\n",
    "                        value='',\n",
    "                        placeholder='Select Country',\n",
    "                        multi=True,\n",
    "                        clearable=True,\n",
    "                        searchable=True,\n",
    "                        style={'margin': '0px', 'padding': '0px'}\n",
    "                        )"
   ]
  },
  {
   "cell_type": "code",
   "execution_count": 11,
   "metadata": {},
   "outputs": [],
   "source": [
    "controls = dbc.Row([\n",
    "                dbc.Col([\n",
    "                    slider\n",
    "                        ], width=12),\n",
    "\n",
    "                dbc.Col([\n",
    "                    dropdown1\n",
    "                        ], width=4),\n",
    "\n",
    "                dbc.Col([\n",
    "                    dropdown2\n",
    "                        ], width=4),\n",
    "                ], className='dropdown-row')"
   ]
  },
  {
   "cell_type": "markdown",
   "metadata": {},
   "source": [
    "### ================================= Graphs ================================= "
   ]
  },
  {
   "cell_type": "code",
   "execution_count": 12,
   "metadata": {},
   "outputs": [],
   "source": [
    "graph1 = dbc.Row([\n",
    "            controls,\n",
    "            dbc.Row([\n",
    "                dbc.Col([\n",
    "                    dbc.Row([\n",
    "                        dcc.Graph(id='graph-1'),\n",
    "                        ], style={'display': 'inline'}),\n",
    "                        ], width=8),\n",
    "\n",
    "                dbc.Col([\n",
    "                    dbc.Card([\n",
    "                    dbc.CardImg(src=\"\", id='flag-1'),\n",
    "                    dbc.CardBody([\n",
    "                        html.Div(children=[], id='data-1'),\n",
    "                ]),\n",
    "            ], style={'display': 'contents'}, outline=False),\n",
    "\n",
    "        ], width=3, id='map-card'),\n",
    "    ], className='graph-row'),\n",
    "], style={'margin': '15px 0px', 'margin': '15px 0px 5px 5px'})\n"
   ]
  },
  {
   "cell_type": "code",
   "execution_count": 13,
   "metadata": {},
   "outputs": [],
   "source": [
    "graph2 = dbc.Row([\n",
    "    dbc.Col([\n",
    "        dbc.Row([\n",
    "            dcc.Graph(id='graph-2'),\n",
    "        ]),\n",
    "    ], width=6),\n",
    "    \n",
    "    dbc.Col([\n",
    "        #GDP based on purchasing-power-parity from 1985-2016 by country, Pharmaceutical Spending as % of GDP 1985-2016\n",
    "            html.P([\"GDP based on purchasing-power-parity from 1985-2016 by country\"], style={'color': '#1675aa','font-size': '22px','font-family': 'fantasy'}),\n",
    "\n",
    "            dbc.Row([\n",
    "                dropdown3\n",
    "            ], style={'width':'400px'}),\n",
    "            \n",
    "            dbc.Row([\n",
    "                dcc.Graph(id='graph-3'),\n",
    "            ]),\n",
    "    ], width=6, style={'justify-content': 'center','text-align': '-webkit-center'}),\n",
    "])"
   ]
  },
  {
   "cell_type": "code",
   "execution_count": 14,
   "metadata": {},
   "outputs": [],
   "source": [
    "graph3= dbc.Row([\n",
    "    dcc.Graph(id='graph-4'),\n",
    "], style={'padding': '0px 30px 20px 30px'})"
   ]
  },
  {
   "cell_type": "markdown",
   "metadata": {
    "id": "R-O5K-5ppr9s"
   },
   "source": [
    "### ================================== Body ============================"
   ]
  },
  {
   "cell_type": "code",
   "execution_count": 15,
   "metadata": {
    "id": "wZgc3itoqwAW"
   },
   "outputs": [],
   "source": [
    "content = dbc.Row([\n",
    "    # html.Div([\"Pharmaceutical Drug Spending by countries\"]),\n",
    "    group_of_cards,\n",
    "    \n",
    "    graph1,\n",
    "\n",
    "    html.Div([\n",
    "        html.Hr(style={'margin': '15px 0px 25px 0px', 'width': '84%', 'height':'3px', 'background-color': '#23809d', 'border-radius': '20px', 'box-shadow': '#054d63 0px 0px 2px 1px'}),\n",
    "    ], style={'text-align': '-webkit-center'}),\n",
    "\n",
    "    graph2,\n",
    "\n",
    "    html.Div([\n",
    "        html.Hr(style={'margin-top': '20px', 'width': '84%', 'height':'3px', 'background-color': '#23809d', 'border-radius': '20px', 'box-shadow': '#054d63 0px 0px 2px 1px'}),\n",
    "    ], style={'text-align': '-webkit-center'}),\n",
    "    graph3,\n",
    "\n",
    "], className='content')"
   ]
  },
  {
   "cell_type": "markdown",
   "metadata": {
    "id": "SyFccaXjtBLH"
   },
   "source": [
    "### ================================== Layout ==========================\n"
   ]
  },
  {
   "cell_type": "code",
   "execution_count": 16,
   "metadata": {
    "id": "rMoPNOkuqkUm"
   },
   "outputs": [],
   "source": [
    "app.layout = html.Div([\n",
    "    dbc.Col([\n",
    "        header, \n",
    "        content,\n",
    "    ])\n",
    "], id='main-div', className=\"dbc\")"
   ]
  },
  {
   "cell_type": "markdown",
   "metadata": {},
   "source": [
    "### ================================== Callback =========================="
   ]
  },
  {
   "cell_type": "code",
   "execution_count": 17,
   "metadata": {
    "id": "KMdt6mBzqT83"
   },
   "outputs": [],
   "source": [
    "@app.callback(\n",
    "    # first graph\n",
    "    Output(component_id='graph-1', component_property='figure'),\n",
    "    Output(component_id='data-1', component_property='children'),\n",
    "    Output(component_id='flag-1', component_property='src'),\n",
    "\n",
    "    # BANS\n",
    "    Output(component_id='rate-spending', component_property='children'),\n",
    "    Output(component_id='sc-percentage', component_property='style'),\n",
    "    Output(component_id='high-spending', component_property='children'),\n",
    "    Output(component_id='low-spending', component_property='children'),\n",
    "    \n",
    "    Input(component_id='slider', component_property='value'),\n",
    "    Input(component_id='drop-relation', component_property='value'),\n",
    "    Input(component_id='drop-scop', component_property='value'),\n",
    "    Input(component_id='graph-1', component_property='hoverData'),\n",
    "    \n",
    ")\n",
    "# +============================================================================= [Function] =============================================================================\n",
    "def map_graph(input_value, drop_relation, drop_scop, graph_input):\n",
    "    time = input_value; \n",
    "    colors = drop_relation; \n",
    "    scope = drop_scop\n",
    "    df = pharma_data[pharma_data.Time.dt.year==time].sort_values(by='TOTAL_SPEND', ascending=True)\n",
    "    COLOR =\"#0691be\"\n",
    "    TCOLOR ='#1675aa'\n",
    "\n",
    "# ========================== {first graph} ======================================================\n",
    "    fig = px.choropleth(df, \n",
    "    locations=\"Location\", \n",
    "    color=drop_relation, \n",
    "    hover_name=\"Country\", \n",
    "    scope=drop_scop.lower(), width=800, height=400, \n",
    "    # projection=\"natural earth\"\n",
    "    )\n",
    "\n",
    "    fig.update_layout(\n",
    "        geo=dict(\n",
    "            showframe=False,\n",
    "            showcoastlines=True,\n",
    "            showland=True,\n",
    "            landcolor=\"#e5efe7\",\n",
    "            showocean=True,\n",
    "            oceancolor=\"#b2dcf6\",\n",
    "            showcountries=True,\n",
    "            projection_type=\"equirectangular\",\n",
    "            bgcolor=\"rgba(0,0,0,0)\",\n",
    "            ),\n",
    "        font=dict(family=\"fantasy\", size=15, color=\"#4143BF\"),\n",
    "        title=f\"{colors.replace('_', ' ')} in {time} in {scope}\",\n",
    "        title_font_color=TCOLOR,\n",
    "        title_x=0.5,\n",
    "        margin=dict(pad=0, l=0, r=0, t=60, b=10),\n",
    "    )\n",
    "\n",
    "    fig.update_coloraxes(\n",
    "        colorbar=dict(\n",
    "            title=colors.replace('_', ' ').title(),\n",
    "            ticks=\"outside\",\n",
    "            ticklen=3,\n",
    "            len=0.7,\n",
    "            thickness=15,\n",
    "        ),\n",
    "        )\n",
    "\n",
    "        \n",
    "# ---------------------------------------------------[BANS part]-------------------------------------------------------------\n",
    "    high=None; low=None; high_spend=None; high_spend_value=None\n",
    "    df_BANS = df.sort_values(by='TOTAL_SPEND', ascending=False).head(1)\n",
    "\n",
    "    high = df_BANS['Country'].values[0]\n",
    "    low = df.head(1)['Country'].values[0]\n",
    "\n",
    "    high_spend = df_BANS['TOTAL_SPEND'].values[0]\n",
    "    high_spend_value = 180 * (high_spend/1000_000)\n",
    "\n",
    "# ---------------------------------------------------[Map part]-----------------------------------------------------\n",
    "    load_data = json.loads(json.dumps(graph_input))\n",
    "    # card_vis = 'visible'\n",
    "    flag = None\n",
    "    summary_data = None\n",
    "    \n",
    "    if load_data:\n",
    "        cond_details = (pharma_data.Time.dt.year == time) & (pharma_data.Country == load_data['points'][0]['hovertext'])\n",
    "        summary_data = pharma_data[cond_details].to_dict('records')\n",
    "        if summary_data:\n",
    "            flag = pharma_data[pharma_data.Country == load_data['points'][0]['hovertext']]['Flag'].unique()[0]\n",
    "        \n",
    "            x1 = summary_data[0]['Location']\n",
    "            x2 = summary_data[0]['Country']\n",
    "            x3 = summary_data[0]['Time'].year\n",
    "            x4 = summary_data[0]['TOTAL_SPEND']\n",
    "            x5 = summary_data[0]['PC_GDP']\n",
    "            x6 = summary_data[0]['PC_HEALTHXP']\n",
    "            x7 = summary_data[0]['USD_CAP']\n",
    "        \n",
    "            table_data = pd.DataFrame.from_dict({\n",
    "                '-':['🌏', '🌍', '⏳', '💵', '💰', '💉', '🧍🏻‍♂️'],\n",
    "                'Summary':['Country', 'Country Code', 'Year ', 'Total Spend $', 'GDP %', 'Health Expenditure %', 'USD Capita'],\n",
    "                'value':[x2, x1, x3, x4, x5, x6, x7]})\n",
    "\n",
    "            summary_data = dash_table.DataTable(data=table_data.to_dict(orient = 'records'), \n",
    "                                                cell_selectable=False, \n",
    "                                                style_table={'border-radius': '10px', 'background-color': 'transparent'}, \n",
    "                                                style_cell={'backgroundColor': 'transparent','textAlign': 'center', 'font-size': '13px', 'font-family': 'Arial', 'margin': '2px', 'padding': '6px'})\n",
    "        else:\n",
    "            flag = pharma_data[pharma_data.Country == load_data['points'][0]['hovertext']]['Flag'].unique()[0]\n",
    "            summary_data = f\"No Data per {load_data['points'][0]['hovertext']} in this {time}\"\n",
    "    else:\n",
    "        tb = pharma_data[pharma_data.Country == high].values[0]\n",
    "        table_data = pd.DataFrame.from_dict({\n",
    "            '-':['🌏', '🌍', '⏳', '💵', '💰', '💉', '🧍🏻‍♂️'],\n",
    "            'Summary':['Country', 'Country Code', 'Year ', 'Total Spend $', 'GDP %', 'Health Expenditure %', 'USD Capita'],\n",
    "            'value':[tb[2], tb[1], tb[4].year, tb[8], tb[6], tb[5], tb[7]]})\n",
    "\n",
    "        flag=tb[3]\n",
    "        summary_data = dash_table.DataTable(data=table_data.to_dict(orient = 'records'), \n",
    "                                            cell_selectable=False, \n",
    "                                            style_table={'border-radius': '10px', 'background-color': 'transparent'}, \n",
    "                                            style_cell={'backgroundColor': 'transparent','textAlign': 'center', 'font-size': '13px', 'font-family': 'Arial', 'margin': '2px', 'padding': '6px'}\n",
    "                                            )\n",
    "        \n",
    "        \n",
    "    return fig, summary_data, flag, money(high_spend * 1000_000), {'transform': f'rotate({high_spend_value}deg)'}, high, low"
   ]
  },
  {
   "cell_type": "markdown",
   "metadata": {},
   "source": [
    "#### Line Graph"
   ]
  },
  {
   "cell_type": "code",
   "execution_count": 18,
   "metadata": {},
   "outputs": [],
   "source": [
    "@app.callback(\n",
    "    Output(component_id='graph-3', component_property='figure'),\n",
    "    Input(component_id='drop-country', component_property='value')\n",
    ")\n",
    "\n",
    "def update_graph(drop_country):\n",
    "    cont = list(drop_country) #dropdown Country\n",
    "    COLOR=\"#0691be\"\n",
    "    TCOLOR='#1675aa'\n",
    "\n",
    "    if cont != []:\n",
    "        line_fig = px.line(\n",
    "            data_frame=pharma_data[pharma_data.Country.isin(cont)].sort_values('Time'),\n",
    "            x='Time',\n",
    "            y='PC_GDP',\n",
    "            color='Country',\n",
    "            markers=True,\n",
    "            # title=f'Pharmaceutical Spending in{cont} as % of GDP 1985-2016',\n",
    "            # width=600,\n",
    "            # height=600,\n",
    "            line_shape='spline',\n",
    "        )\n",
    "    else:\n",
    "        line_fig = px.line(\n",
    "        data_frame=pharma_data[pharma_data.Country.isin([\"Japan\"])].sort_values('Time'),\n",
    "        x='Time',\n",
    "        y='PC_GDP',\n",
    "        color='Country',\n",
    "        markers=True,\n",
    "        # width=600,\n",
    "        # height=600,\n",
    "        line_shape='spline',\n",
    "    )\n",
    "\n",
    "    # update layout properties\n",
    "    line_fig.update_layout(\n",
    "        autosize=True,\n",
    "        height=600,\n",
    "        width=600,\n",
    "        bargap=0.04,\n",
    "        bargroupgap=0.05,\n",
    "        margin=dict(pad=0, l=0, r=0, t=30, b=10),\n",
    "        paper_bgcolor='rgba(0,0,0,0)',\n",
    "        plot_bgcolor='rgba(0,0,0,0)',\n",
    "        xaxis_title=\"Time\",\n",
    "        xaxis_title_font_family='system-ui',\n",
    "        xaxis_tickfont_size=14,\n",
    "        xaxis_tickfont_family='system-ui',\n",
    "        xaxis_tickangle=45,\n",
    "        yaxis_title=\"GDP percent\",\n",
    "        yaxis_title_font_family='system-ui',\n",
    "        yaxis_tickfont_family='system-ui',\n",
    "        xaxis =  {'showgrid': True, 'gridcolor': '#BFBFBF', 'gridwidth': 1, 'zeroline': True, 'showline': True, 'linecolor': '#BFBFBF', 'linewidth': 1},\n",
    "        yaxis = {'showgrid': False},\n",
    "        \n",
    "        \n",
    "        xaxis_tickfont_color=COLOR,\n",
    "        xaxis_title_font_color=COLOR,\n",
    "        yaxis_title_font_color=COLOR,\n",
    "        yaxis_tickfont_color=COLOR,\n",
    "        legend_font_color=COLOR,\n",
    "    )\n",
    "\n",
    "    return line_fig"
   ]
  },
  {
   "cell_type": "markdown",
   "metadata": {},
   "source": [
    "### Horizontal Bar Chart"
   ]
  },
  {
   "cell_type": "code",
   "execution_count": 19,
   "metadata": {},
   "outputs": [],
   "source": [
    "@app.callback(\n",
    "    Output(component_id='graph-2', component_property='figure'),\n",
    "    Input(component_id='slider', component_property='value'),\n",
    ")\n",
    "\n",
    "def update_graph3(input_value):\n",
    "    time = input_value\n",
    "    df = pharma_data[pharma_data.Time.dt.year==time].sort_values(by='TOTAL_SPEND', ascending=True)\n",
    "    COLOR=\"#0691be\"\n",
    "    TCOLOR='#1675aa' #64c571\n",
    "\n",
    "    fig2 = px.bar(data_frame=df.head(20),\n",
    "        y='Country', \n",
    "        width=600,\n",
    "        height=600,\n",
    "        x='TOTAL_SPEND', \n",
    "        orientation='h', \n",
    "        hover_data={'Country':False, 'TOTAL_SPEND':True, 'Location':False, 'Flag':False, 'Time':True},\n",
    "        # facet_col_wrap=2,\n",
    "        # facet_col_spacing=1,\n",
    "        log_x=True,\n",
    "        hover_name='Country',\n",
    "        opacity=1,\n",
    "        text_auto=True,\n",
    "        # color_discrete_sequence =['green']*len(df),\n",
    "    )\n",
    "    \n",
    "    fig2.update_traces(marker_color='#158bcc', textposition='inside')\n",
    "    # update layout properties\n",
    "    fig2.update_layout(\n",
    "    autosize=True,\n",
    "    # height=600,\n",
    "    # width=600,\n",
    "    bargap=0.04,\n",
    "    bargroupgap=0.05,\n",
    "    title=f\"Top(20) Countries Spending The Most For Medicinal Drugs in {time}\",\n",
    "    title_x=0.5,\n",
    "    title_font_size=22,\n",
    "    title_font_family='fantasy',\n",
    "\n",
    "    margin=dict(pad=0, l=0, r=0, t=60, b=10),\n",
    "    paper_bgcolor='rgba(0,0,0,0)',\n",
    "    plot_bgcolor='rgba(0,0,0,0)',\n",
    "\n",
    "    xaxis_title=\"Total Expenditure (USD)\",\n",
    "    xaxis_title_font_family='system-ui',\n",
    "    \n",
    "    xaxis_tickfont_size=14,\n",
    "    xaxis_tickfont_family='system-ui',\n",
    "    xaxis_tickangle=45,\n",
    "    xaxis_showgrid=True,\n",
    "    yaxis_showgrid=False,\n",
    "    yaxis_title=\"Country\",\n",
    "    yaxis_title_font_family='system-ui',\n",
    "    yaxis_tickfont_family='system-ui',\n",
    "\n",
    "    title_font_color=TCOLOR,\n",
    "    yaxis_tickfont_color=COLOR, \n",
    "    yaxis_title_font_color=COLOR,\n",
    "    xaxis_tickfont_color=COLOR, \n",
    "    xaxis_title_font_color=COLOR\n",
    "    )\n",
    "    return fig2"
   ]
  },
  {
   "cell_type": "markdown",
   "metadata": {},
   "source": [
    "#### Double Vertical Bar Chart"
   ]
  },
  {
   "cell_type": "code",
   "execution_count": 20,
   "metadata": {},
   "outputs": [],
   "source": [
    "@app.callback(\n",
    "    Output(component_id='graph-4', component_property='figure'),\n",
    "    Input(component_id='slider', component_property='value'),\n",
    ")\n",
    "\n",
    "def update_graph(input_value):\n",
    "    time = input_value; \n",
    "    df = pharma_data[pharma_data.Time.dt.year==time].sort_values(by='TOTAL_SPEND', ascending=False)\n",
    "\n",
    "    c = df['Country'].to_list()\n",
    "    cp = df['PC_GDP'].tolist()\n",
    "    ch = df['PC_HEALTHXP'].tolist()\n",
    "    \n",
    "    COLOR=\"#0691be\"\n",
    "    TCOLOR='#1675aa'\n",
    "\n",
    "    double_bar_fig = go.Figure()\n",
    "\n",
    "    double_bar_fig.add_trace(\n",
    "        go.Scatter(\n",
    "            x=c,\n",
    "            y=cp,\n",
    "            name=\"USD per capita\",\n",
    "            mode='lines+markers', \n",
    "            marker= dict(size=7,\n",
    "            symbol = 'diamond',\n",
    "            color ='RGB(251, 177, 36)',\n",
    "            line_width = 2\n",
    "            ),\n",
    "            line = dict(color='firebrick', width=3)\n",
    "        )\n",
    "        )\n",
    "\n",
    "    double_bar_fig.add_trace(\n",
    "        go.Bar(\n",
    "        x=c,\n",
    "        y=ch,\n",
    "        name=\"% Health Spending\",\n",
    "        text = df['PC_HEALTHXP'],\n",
    "        textposition='outside',\n",
    "        textfont=dict(\n",
    "        size=13,\n",
    "        color='#158bcc')\n",
    "    )\n",
    "    )\n",
    "\n",
    "    double_bar_fig.update_traces(texttemplate='%{text:.2s}', marker_color='#158bcc')\n",
    "    double_bar_fig.update_layout(\n",
    "        barmode='group', \n",
    "        # xaxis_tickangle=-45, \n",
    "        autosize=True,\n",
    "        height=600,\n",
    "        # width=600,\n",
    "        bargap=0.04,\n",
    "        bargroupgap=0.05,\n",
    "        title=f\"Analysis Countries by Health Expenditure and GDP per Capita in {time}\",\n",
    "        title_x=0.5,\n",
    "        title_font_size=22,\n",
    "        title_font_family='fantasy',\n",
    "        \n",
    "        \n",
    "        margin=dict(pad=0, l=0, r=0, t=65, b=10),\n",
    "        paper_bgcolor='rgba(0,0,0,0)',\n",
    "        plot_bgcolor='rgba(0,0,0,0)',\n",
    "\n",
    "        xaxis_title=\"Country\",\n",
    "        xaxis_title_font_family='system-ui',\n",
    "        xaxis_tickfont_size=14,\n",
    "        xaxis_tickfont_family='system-ui',\n",
    "        xaxis_tickangle=45,\n",
    "        xaxis_showgrid=False,\n",
    "\n",
    "        yaxis_title=\"% of GDP \\n % of Health Spending\",\n",
    "        yaxis_title_font_family='system-ui',\n",
    "        yaxis_tickfont_family='system-ui',\n",
    "        yaxis_showgrid=True,\n",
    "\n",
    "        legend_orientation=\"h\",\n",
    "        legend_x=0.7,\n",
    "        legend_y=1.2,\n",
    "        legend_title=\"Legend\",\n",
    "        legend_title_font_size=14,\n",
    "        # legend_title_font_family='fantasy',\n",
    "        legend_font_size=13,\n",
    "        legend_font_family='system-ui',\n",
    "\n",
    "        title_font_color=TCOLOR,\n",
    "        yaxis_title_font_color=COLOR,\n",
    "        yaxis_tickfont_color=COLOR,\n",
    "        xaxis_title_font_color=COLOR,\n",
    "        legend_title_font_color=COLOR,\n",
    "        legend_font_color=COLOR,\n",
    "        xaxis_tickfont_color=COLOR,\n",
    "    )\n",
    "    return double_bar_fig"
   ]
  },
  {
   "cell_type": "markdown",
   "metadata": {},
   "source": [
    "#### Run Server"
   ]
  },
  {
   "cell_type": "code",
   "execution_count": 21,
   "metadata": {
    "colab": {
     "base_uri": "https://localhost:8080/",
     "height": 52
    },
    "id": "H1xkWCgaqxsW",
    "outputId": "f28a98cb-9bdd-4132-f212-61cc9ec31b6b"
   },
   "outputs": [
    {
     "name": "stdout",
     "output_type": "stream",
     "text": [
      "Dash app running on http://127.0.0.1:8050/\n"
     ]
    }
   ],
   "source": [
    "if __name__ == '__main__':\n",
    "    app.run_server(debug=True)"
   ]
  },
  {
   "cell_type": "markdown",
   "metadata": {
    "id": "wO0ea3oizKlo"
   },
   "source": [
    "## About Dataset\n",
    "\n",
    "* Pharmaceutical Drug Spending by countries with indicators such as a share of total health spending, in USD per capita (using economy-wide PPPs) and as a share of GDP. Plus, total spending by each countries in the specific year.\n",
    "\n",
    "* Data comes from Organisation for Economic Cooperation and Development on https://data.oecd.org/healthres/pharmaceutical-spending.htm\n",
    "\n",
    "* It consists of useful information about percent of health spending, percent of GDP and US dollars per capita for specific countries. Also, we added total spending by countries using their population data.\n",
    "\n",
    "* Population data comes from DataHub http://datahub.io/core/population since it is regularly updated and includes all country codes.\n",
    "\n",
    "Preparation\n",
    "There are several steps have been done to get final data.\n",
    "\n",
    "We extracted separately each resource by ``percent of health spending``, ``percent of GDP`` and ``US dollars per capita``\n",
    "We merged them into one resource and added new column “TOTALSPEND” “TOTALSPEND” is calculated using “US dollars per capita” and “population” data. Source for original pharmacy drug spending: https://stats.oecd.org/sdmx-json/data/DP_LIVE/.PHARMAEXP%E2%80%A6/OECD?contentType=csv&detail=code&separator=comma&csv-lang=en"
   ]
  },
  {
   "cell_type": "markdown",
   "metadata": {
    "id": "1hSmk4b60TCn"
   },
   "source": [
    "* Location\n",
    "* TIME, \n",
    "* PC Healthexp : percent of health spending,\n",
    "* PC_GDP : percent of GDP,\n",
    "* USD Cap : US dollars per capita,\n",
    "* FLAG_CODES, \n",
    "* Total spending\n",
    "\n"
   ]
  },
  {
   "cell_type": "markdown",
   "metadata": {},
   "source": []
  }
 ],
 "metadata": {
  "colab": {
   "collapsed_sections": [],
   "name": "Dashboard.ipynb",
   "provenance": []
  },
  "kernelspec": {
   "display_name": "Python 3.10.2 64-bit",
   "language": "python",
   "name": "python3"
  },
  "language_info": {
   "codemirror_mode": {
    "name": "ipython",
    "version": 3
   },
   "file_extension": ".py",
   "mimetype": "text/x-python",
   "name": "python",
   "nbconvert_exporter": "python",
   "pygments_lexer": "ipython3",
   "version": "3.10.2"
  },
  "vscode": {
   "interpreter": {
    "hash": "25a19fbe0a9132dfb9279d48d161753c6352f8f9478c2e74383d340069b907c3"
   }
  }
 },
 "nbformat": 4,
 "nbformat_minor": 1
}
